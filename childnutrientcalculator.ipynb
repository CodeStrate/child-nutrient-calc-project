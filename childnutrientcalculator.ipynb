{
 "cells": [
  {
   "cell_type": "code",
   "execution_count": 16,
   "metadata": {},
   "outputs": [
    {
     "name": "stdout",
     "output_type": "stream",
     "text": [
      "Welcome to the Child Nutrient Calculator!!! \n",
      "\n",
      " Please Enter the Details of your Child...\n"
     ]
    }
   ],
   "source": [
    "print(\"Welcome to the Child Nutrient Calculator!!! \\n\\n Please Enter the Details of your Child...\")"
   ]
  },
  {
   "cell_type": "code",
   "execution_count": 17,
   "metadata": {},
   "outputs": [],
   "source": [
    "def setValue(msg): # a generic function for getting input , useful when we perform checks\n",
    "    return input(msg)"
   ]
  },
  {
   "cell_type": "markdown",
   "metadata": {},
   "source": [
    "## Here I've checked each field for possible wrong input and bugs."
   ]
  },
  {
   "cell_type": "code",
   "execution_count": 18,
   "metadata": {},
   "outputs": [],
   "source": [
    "def checkAge(msg): # makes sure the age is with 0-8 years\n",
    "    age = int(setValue(msg))\n",
    "    if age > 8:\n",
    "        print(\"Age should be 0-8 years. Try again.\")\n",
    "        return checkAge(msg)\n",
    "    else:\n",
    "        return age"
   ]
  },
  {
   "cell_type": "code",
   "execution_count": 19,
   "metadata": {},
   "outputs": [],
   "source": [
    "def checkName(msg):\n",
    "    name = setValue(msg) # why here? if we give num or alpha num in name then it can repeatedly ask us to\n",
    "    # enter name again till we get it right.\n",
    "    if name.isalpha(): # makes sure the name is only alphabets, returns false in cases of num and alnum\n",
    "        return name\n",
    "    else:\n",
    "        print(\"This is not a name. Try again. Only alphabets.\")\n",
    "        return checkName(msg) # recursive call here."
   ]
  },
  {
   "cell_type": "code",
   "execution_count": 20,
   "metadata": {},
   "outputs": [],
   "source": [
    "def checkGender(msg):\n",
    "    gender = setValue(msg)\n",
    "    if gender == ('M' or 'm') or gender == ('F' or 'f') or gender == ('O' or 'o'): # Makes sure we can only do m/f/o.\n",
    "        return gender\n",
    "    else:\n",
    "        print(\"Enterred gender not in options. Try Again. (M/m) or (F/f) or (O/o)\")\n",
    "        return checkGender(msg)"
   ]
  },
  {
   "cell_type": "markdown",
   "metadata": {},
   "source": [
    "## IMPORTANT!!\n",
    "# I have tried to keep the height and weight limited to avoid ungodly values, yet an absolute\n",
    "# value for a child's height and weight is not possible due to different growth rates and genes\n",
    "# so, I've checked what the maximum height and weight of a child under 8 years can be\n",
    "# and used Boys as a measuring stick and constraint as boys growth > girls growth\n",
    "# Still I tried putting some big values to accomodate every possibility."
   ]
  },
  {
   "cell_type": "code",
   "execution_count": 21,
   "metadata": {},
   "outputs": [],
   "source": [
    "def checkHeight(msg):\n",
    "    height = float(setValue(msg))\n",
    "\n",
    "    height_inches = height / 2.54 # cms to inches conversion\n",
    "\n",
    "    if 0.1 <= height_inches <= 190.0: # its higher just for accomodating a lot of values.\n",
    "        return round(height_inches, 2)\n",
    "    else:\n",
    "        print(\"Height is too short or too tall. Try again.\")\n",
    "        return checkHeight(msg)\n"
   ]
  },
  {
   "cell_type": "code",
   "execution_count": 22,
   "metadata": {},
   "outputs": [],
   "source": [
    "def checkWeight(msg):\n",
    "    weight = float(setValue(msg))\n",
    "    \n",
    "    conversion_value = 2.20462262\n",
    "    weight_pounds = weight * conversion_value # kgs to pounds conversion\n",
    "\n",
    "    if 0.1 <= weight_pounds <= 220.0: # I agree heh, its even higher but obese exist.\n",
    "        return round(weight_pounds, 2)\n",
    "    else:\n",
    "        print(\"Weight is too low or too much. Try again.\")\n",
    "        return checkWeight(msg)\n"
   ]
  },
  {
   "cell_type": "code",
   "execution_count": 23,
   "metadata": {
    "scrolled": true
   },
   "outputs": [],
   "source": [
    "def getChildDetails():\n",
    "    name = checkName(\"Please Enter the Name of the Child : \")\n",
    "    \n",
    "    age = checkAge(\"Please Enter the Age of the Child (0-8 years) : \")\n",
    "    \n",
    "    gender = checkGender(\"Please Enter the Gender of the Child (M/F/O) : \")\n",
    "    \n",
    "    height = checkHeight(\"Please Enter the Height of the Child (in Centimeters) : \")\n",
    "    \n",
    "    weight = checkWeight(\"Please Enter the Weight of the Child (in Kilograms) : \")\n",
    "\n",
    "\n",
    "    child_details = [name, age, gender, height, weight]\n",
    "\n",
    "    return child_details"
   ]
  },
  {
   "cell_type": "markdown",
   "metadata": {},
   "source": [
    "# Now we get and print the child's details using a loop."
   ]
  },
  {
   "cell_type": "code",
   "execution_count": 24,
   "metadata": {
    "scrolled": true
   },
   "outputs": [
    {
     "name": "stdout",
     "output_type": "stream",
     "text": [
      "Here are the details entered for your child\n",
      "Hardik\n",
      "M\n",
      "8\n",
      "57.09\n",
      "79.37\n"
     ]
    }
   ],
   "source": [
    "detail_list = getChildDetails()\n",
    "print(\"Here are the details entered for your child\")\n",
    "for i in range(len(detail_list)):\n",
    "    print(detail_list[i])"
   ]
  },
  {
   "cell_type": "markdown",
   "metadata": {},
   "source": [
    "# Here's the BMI calculation and checks."
   ]
  },
  {
   "cell_type": "code",
   "execution_count": 25,
   "metadata": {},
   "outputs": [],
   "source": [
    "def BMI_Calculator(detail_list):\n",
    "    child_height = detail_list[3]\n",
    "    child_weight = detail_list[4]\n",
    "\n",
    "    BMI = child_weight/(child_height**2)*703\n",
    "\n",
    "    return round(BMI, 2)"
   ]
  },
  {
   "cell_type": "code",
   "execution_count": 26,
   "metadata": {},
   "outputs": [
    {
     "name": "stdout",
     "output_type": "stream",
     "text": [
      "17.12\n",
      "Your child is Underweight.\n"
     ]
    }
   ],
   "source": [
    "child_age = detail_list[1]\n",
    "if child_age < 2:\n",
    "    print(\"BMI is not required for children under 2 years of age.\") # read about it from many websites. As the teacher checking this,\n",
    "    # feel free to confirm. \n",
    "else:\n",
    "    child_BMI = BMI_Calculator(detail_list)\n",
    "\n",
    "print(child_BMI)\n",
    "\n",
    "if child_BMI < 16.0:\n",
    "    print(\"Your child is Severely Underweight.\")\n",
    "elif 16.0 <= child_BMI < 18.5:\n",
    "    print(\"Your child is Underweight.\")\n",
    "elif 18.5 <= child_BMI < 25.0:\n",
    "    print(\"Your child is Healthy.\")\n",
    "elif 25.0 <= child_BMI < 30.0:\n",
    "    print(\"Your child is Overweight.\")\n",
    "else:\n",
    "    print(\"Your child is Obese.\")\n"
   ]
  },
  {
   "cell_type": "markdown",
   "metadata": {},
   "source": [
    "## Here's the Nutrient Block of the Problem.\n"
   ]
  },
  {
   "cell_type": "code",
   "execution_count": 27,
   "metadata": {},
   "outputs": [
    {
     "name": "stdout",
     "output_type": "stream",
     "text": [
      "Minimum Daily Calorie Requirement Based on Age: \n",
      "\n",
      " Age b/w 0-2 years: 800 calories\n",
      " Age b/w 2-4 years: 1400 calories\n",
      " Age b/w 4-8 years: 1800 calories\n"
     ]
    }
   ],
   "source": [
    "## Print the Daily Calorie Intake of a child\n",
    "\n",
    "print(\"Minimum Daily Calorie Requirement Based on Age: \\n\\n Age b/w 0-2 years: 800 calories\\n Age b/w 2-4 years: 1400 calories\\n Age b/w 4-8 years: 1800 calories\")"
   ]
  },
  {
   "cell_type": "markdown",
   "metadata": {},
   "source": [
    "# A preface, I tried to think of ways to take input what the child ate instead of Hardcoding it in, but implications would arise when doing the calorie calculation for each food, since these 6 were given, I resorted to stick to the problem statement's limits.\n",
    "\n",
    "You can always put 0 in foods the child doesn't eat."
   ]
  },
  {
   "cell_type": "code",
   "execution_count": 1,
   "metadata": {},
   "outputs": [
    {
     "ename": "SyntaxError",
     "evalue": "'(' was never closed (2931652910.py, line 19)",
     "output_type": "error",
     "traceback": [
      "\u001b[1;36m  Input \u001b[1;32mIn [1]\u001b[1;36m\u001b[0m\n\u001b[1;33m    total_cal_intake = (milk_cal + egg_cal + rice_cal + lentil_cal + veg_cal + meat_cal\u001b[0m\n\u001b[1;37m                       ^\u001b[0m\n\u001b[1;31mSyntaxError\u001b[0m\u001b[1;31m:\u001b[0m '(' was never closed\n"
     ]
    }
   ],
   "source": [
    "###  TAKE INPUT OF THE DAILY INTAKE FOODS OF THE CHILD  ###\n",
    "\n",
    "## SetValue? why not input? I mean if it already returns input why not just use it and not cause redundancy.\n",
    "\n",
    "milk_intake = float(setValue(\"Enter the child's daily Milk intake (in Grams): \"))\n",
    "egg_intake = float(setValue(\"Enter the child's daily Egg intake (in Grams): \")) ### If you're Vegetarian you can do a 0 here. \n",
    "rice_intake = float(setValue(\"Enter the child's daily Rice intake (in Grams): \"))\n",
    "lentil_intake = float(setValue(\"Enter the child's daily Lentils intake (in Grams): \"))\n",
    "veg_intake = float(setValue(\"Enter the child's daily Vegetables intake (in Grams): \"))\n",
    "meat_intake = float(setValue(\"Enter the child's daily Meat intake (in Grams): \")) ### Same as above. you can put 0.\n",
    "\n",
    "## CALCULATING CALORIES FOR EACH INTAKE USING THE CAL/GM FORMULAS ## for 100gm intake the values are 100cal,155cal,etc. from the PS.\n",
    "milk_cal = milk_intake * 1\n",
    "egg_cal = round(egg_intake * 1.55, 2)\n",
    "rice_cal = round(rice_intake * 1.30, 2)\n",
    "lentil_cal = round(lentil_intake * 1.13, 2)\n",
    "veg_cal = round(veg_intake * 0.85, 2)\n",
    "meat_cal = round(meat_intake * 1.43, 2)\n",
    "\n",
    "total_cal_intake = round(milk_cal + egg_cal + rice_cal + lentil_cal + veg_cal + meat_cal, 2) ## cleaniness made me round it.\n",
    "\n",
    "print(f\"The total calorie intake of your child is {total_cal_intake} calories.\")"
   ]
  },
  {
   "cell_type": "markdown",
   "metadata": {},
   "source": [
    "# Checking the Calorie Intakes as per age."
   ]
  },
  {
   "cell_type": "code",
   "execution_count": 29,
   "metadata": {},
   "outputs": [
    {
     "name": "stdout",
     "output_type": "stream",
     "text": [
      "Your child is Malnourished.\n"
     ]
    }
   ],
   "source": [
    "if child_age < 2:\n",
    "    if(total_cal_intake < 800.0):\n",
    "        print(f\"Your child is Malnourished as a {child_age} years old.\")\n",
    "    else:\n",
    "        print(f\"Child is Nourished Properly as a {child_age} years old.\")\n",
    "\n",
    "if child_age in range(2,4): ## I didnt take 5 to include 4 because its already in the 4-8 group. would cause ambiguity.\n",
    "    if(total_cal_intake < 1400.0):\n",
    "        print(f\"Your child is Malnourished as a {child_age} years old.\")\n",
    "    else:\n",
    "        print(f\"Child is Nourished Properly as a {child_age} years old.\")\n",
    "\n",
    "if child_age in range(4,9):\n",
    "    if(total_cal_intake < 1800.0):\n",
    "        print(f\"Your child is Malnourished as a {child_age} years old.\")\n",
    "    else:\n",
    "        print(f\"Child is Nourished Properly as a {child_age} years old.\")\n",
    "\n",
    "\n",
    "        ## HAVING THE AGE TOO DOESN'T CONFUSE THE USER FOR WHICH CONDITION IT SAYS MALNOURISHED OR NOURISHED PROPERLY."
   ]
  }
 ],
 "metadata": {
  "kernelspec": {
   "display_name": "Python 3 (ipykernel)",
   "language": "python",
   "name": "python3"
  },
  "language_info": {
   "codemirror_mode": {
    "name": "ipython",
    "version": 3
   },
   "file_extension": ".py",
   "mimetype": "text/x-python",
   "name": "python",
   "nbconvert_exporter": "python",
   "pygments_lexer": "ipython3",
   "version": "3.10.6"
  },
  "vscode": {
   "interpreter": {
    "hash": "369f2c481f4da34e4445cda3fffd2e751bd1c4d706f27375911949ba6bb62e1c"
   }
  }
 },
 "nbformat": 4,
 "nbformat_minor": 2
}
